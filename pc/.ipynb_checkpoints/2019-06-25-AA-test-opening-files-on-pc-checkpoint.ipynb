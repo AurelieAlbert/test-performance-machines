{
 "cells": [
  {
   "cell_type": "code",
   "execution_count": 1,
   "metadata": {},
   "outputs": [
    {
     "name": "stderr",
     "output_type": "stream",
     "text": [
      "/home/alberta/anaconda2/envs/pangeo-cloud/lib/python3.6/site-packages/dask/config.py:168: YAMLLoadWarning: calling yaml.load() without Loader=... is deprecated, as the default Loader is unsafe. Please read https://msg.pyyaml.org/load for full details.\n",
      "  data = yaml.load(f.read()) or {}\n"
     ]
    }
   ],
   "source": [
    "import xarray as xr\n",
    "import dask\n",
    "import dask.threaded\n",
    "import dask.multiprocessing\n",
    "from dask.distributed import Client\n",
    "import numpy as np                                                                                        \n",
    "import zarr\n",
    "\n",
    "c = Client()\n"
   ]
  },
  {
   "cell_type": "code",
   "execution_count": 2,
   "metadata": {},
   "outputs": [
    {
     "data": {
      "text/html": [
       "<table style=\"border: 2px solid white;\">\n",
       "<tr>\n",
       "<td style=\"vertical-align: top; border: 0px solid white\">\n",
       "<h3>Client</h3>\n",
       "<ul>\n",
       "  <li><b>Scheduler: </b>tcp://127.0.0.1:42061\n",
       "  <li><b>Dashboard: </b><a href='http://127.0.0.1:8787/status' target='_blank'>http://127.0.0.1:8787/status</a>\n",
       "</ul>\n",
       "</td>\n",
       "<td style=\"vertical-align: top; border: 0px solid white\">\n",
       "<h3>Cluster</h3>\n",
       "<ul>\n",
       "  <li><b>Workers: </b>4</li>\n",
       "  <li><b>Cores: </b>8</li>\n",
       "  <li><b>Memory: </b>33.66 GB</li>\n",
       "</ul>\n",
       "</td>\n",
       "</tr>\n",
       "</table>"
      ],
      "text/plain": [
       "<Client: scheduler='tcp://127.0.0.1:42061' processes=4 cores=8>"
      ]
     },
     "execution_count": 2,
     "metadata": {},
     "output_type": "execute_result"
    }
   ],
   "source": [
    "c"
   ]
  },
  {
   "cell_type": "code",
   "execution_count": 3,
   "metadata": {},
   "outputs": [],
   "source": [
    "import sys, glob\n",
    "import numpy as np\n",
    "import xarray as xr\n",
    "import time"
   ]
  },
  {
   "cell_type": "code",
   "execution_count": 4,
   "metadata": {},
   "outputs": [
    {
     "name": "stdout",
     "output_type": "stream",
     "text": [
      "CPU times: user 7.41 s, sys: 372 ms, total: 7.78 s\n",
      "Wall time: 7.83 s\n"
     ]
    }
   ],
   "source": [
    "%%time\n",
    "dsu=xr.open_zarr('/mnt/alberta/equipes/IGE/meom/workdir/albert/eNATL60/zarr/eNATL60-BLBT02-SSU-1h')\n",
    "dsv=xr.open_zarr('/mnt/alberta/equipes/IGE/meom/workdir/albert/eNATL60/zarr/eNATL60-BLBT02-SSV-1h')\n"
   ]
  },
  {
   "cell_type": "code",
   "execution_count": null,
   "metadata": {},
   "outputs": [],
   "source": [
    "%%time\n",
    "#dsu1=xr.open_mfdataset('/mnt/alberta/equipes/IGE/meom/workdir/albert/eNATL60/eNATL60-BLBT02-S/1h/SSU/eNATL60-BLBT02_*2010m01*_sozocrtx.nc',parallel=True)\n",
    "#dsv1=xr.open_mfdataset('/mnt/alberta/equipes/IGE/meom/workdir/albert/eNATL60/eNATL60-BLBT02-S/1h/SSV/eNATL60-BLBT02_1h_*2010m01*_gridV-2D.nc',parallel=True)\n",
    "\n",
    "#dsu2=xr.open_mfdataset('/mnt/alberta/equipes/IGE/meom/workdir/albert/eNATL60/eNATL60-BLBT02-S/1h/SSU/eNATL60-BLBT02_*2010m02*_sozocrtx.nc',parallel=True)\n",
    "#dsv2=xr.open_mfdataset('/mnt/alberta/equipes/IGE/meom/workdir/albert/eNATL60/eNATL60-BLBT02-S/1h/SSV/eNATL60-BLBT02_1h_*2010m02*_gridV-2D.nc',parallel=True)\n",
    "\n",
    "#dsu3=xr.open_mfdataset('/mnt/alberta/equipes/IGE/meom/workdir/albert/eNATL60/eNATL60-BLBT02-S/1h/SSU/eNATL60-BLBT02_*2010m03*_sozocrtx.nc',parallel=True)\n",
    "#dsv3=xr.open_mfdataset('/mnt/alberta/equipes/IGE/meom/workdir/albert/eNATL60/eNATL60-BLBT02-S/1h/SSV/eNATL60-BLBT02_1h_*2010m03*_gridV-2D.nc',parallel=True)\n",
    "\n",
    "#dsu4=xr.open_mfdataset('/mnt/alberta/equipes/IGE/meom/workdir/albert/eNATL60/eNATL60-BLBT02-S/1h/SSU/eNATL60-BLBT02_*2010m04*_sozocrtx.nc',parallel=True)\n",
    "#dsv4=xr.open_mfdataset('/mnt/alberta/equipes/IGE/meom/workdir/albert/eNATL60/eNATL60-BLBT02-S/1h/SSV/eNATL60-BLBT02_1h_*2010m04*_gridV-2D.nc',parallel=True)\n",
    "\n",
    "#dsu5=xr.open_mfdataset('/mnt/alberta/equipes/IGE/meom/workdir/albert/eNATL60/eNATL60-BLBT02-S/1h/SSU/eNATL60-BLBT02_*2010m05*_sozocrtx.nc',parallel=True)\n",
    "#dsv5=xr.open_mfdataset('/mnt/alberta/equipes/IGE/meom/workdir/albert/eNATL60/eNATL60-BLBT02-S/1h/SSV/eNATL60-BLBT02_1h_*2010m05*_gridV-2D.nc',parallel=True)\n",
    "\n",
    "#dsu6=xr.open_mfdataset('/mnt/alberta/equipes/IGE/meom/workdir/albert/eNATL60/eNATL60-BLBT02-S/1h/SSU/eNATL60-BLBT02_*2010m06*_sozocrtx.nc',parallel=True)\n",
    "#dsv6=xr.open_mfdataset('/mnt/alberta/equipes/IGE/meom/workdir/albert/eNATL60/eNATL60-BLBT02-S/1h/SSV/eNATL60-BLBT02_1h_*2010m06*_gridV-2D.nc',parallel=True)\n",
    "\n",
    "dsu7=xr.open_mfdataset('/mnt/alberta/equipes/IGE/meom/workdir/albert/eNATL60/eNATL60-BLBT02-S/1h/SSU/eNATL60-BLBT02_*2009m07*_sozocrtx.nc',parallel=True)\n",
    "#dsv7=xr.open_mfdataset('/mnt/alberta/equipes/IGE/meom/workdir/albert/eNATL60/eNATL60-BLBT02-S/1h/SSV/eNATL60-BLBT02_1h_*2009m07*_gridV-2D.nc',parallel=True)\n",
    "\n",
    "#dsu8=xr.open_mfdataset('/mnt/alberta/equipes/IGE/meom/workdir/albert/eNATL60/eNATL60-BLBT02-S/1h/SSU/eNATL60-BLBT02_*2009m08*_sozocrtx.nc',parallel=True)\n",
    "#dsv8=xr.open_mfdataset('/mnt/alberta/equipes/IGE/meom/workdir/albert/eNATL60/eNATL60-BLBT02-S/1h/SSV/eNATL60-BLBT02_1h_*2009m08*_gridV-2D.nc',parallel=True)\n",
    "\n",
    "#dsu9=xr.open_mfdataset('/mnt/alberta/equipes/IGE/meom/workdir/albert/eNATL60/eNATL60-BLBT02-S/1h/SSU/eNATL60-BLBT02_*2009m09*_sozocrtx.nc',parallel=True)\n",
    "#dsv9=xr.open_mfdataset('/mnt/alberta/equipes/IGE/meom/workdir/albert/eNATL60/eNATL60-BLBT02-S/1h/SSV/eNATL60-BLBT02_1h_*2009m09*_gridV-2D.nc',parallel=True)\n",
    "\n",
    "#dsu10=xr.open_mfdataset('/mnt/alberta/equipes/IGE/meom/workdir/albert/eNATL60/eNATL60-BLBT02-S/1h/SSU/eNATL60-BLBT02_*2009m10*_sozocrtx.nc',parallel=True)\n",
    "#dsv10=xr.open_mfdataset('/mnt/alberta/equipes/IGE/meom/workdir/albert/eNATL60/eNATL60-BLBT02-S/1h/SSV/eNATL60-BLBT02_1h_*2009m10*_gridV-2D.nc',parallel=True)\n",
    "\n",
    "#dsu11=xr.open_mfdataset('/mnt/alberta/equipes/IGE/meom/workdir/albert/eNATL60/eNATL60-BLBT02-S/1h/SSU/eNATL60-BLBT02_*2009m11*_sozocrtx.nc',parallel=True)\n",
    "#dsv11=xr.open_mfdataset('/mnt/alberta/equipes/IGE/meom/workdir/albert/eNATL60/eNATL60-BLBT02-S/1h/SSV/eNATL60-BLBT02_1h_*2009m11*_gridV-2D.nc',parallel=True)\n",
    "\n",
    "#dsu12=xr.open_mfdataset('/mnt/alberta/equipes/IGE/meom/workdir/albert/eNATL60/eNATL60-BLBT02-S/1h/SSU/eNATL60-BLBT02_*2009m12*_sozocrtx.nc',parallel=True)\n",
    "#dsv12=xr.open_mfdataset('/mnt/alberta/equipes/IGE/meom/workdir/albert/eNATL60/eNATL60-BLBT02-S/1h/SSV/eNATL60-BLBT02_1h_*2009m12*_gridV-2D.nc',parallel=True)\n"
   ]
  }
 ],
 "metadata": {
  "kernelspec": {
   "display_name": "pangeo_cloud",
   "language": "python",
   "name": "pangeo-cloud"
  },
  "language_info": {
   "codemirror_mode": {
    "name": "ipython",
    "version": 3
   },
   "file_extension": ".py",
   "mimetype": "text/x-python",
   "name": "python",
   "nbconvert_exporter": "python",
   "pygments_lexer": "ipython3",
   "version": "3.6.7"
  }
 },
 "nbformat": 4,
 "nbformat_minor": 2
}
